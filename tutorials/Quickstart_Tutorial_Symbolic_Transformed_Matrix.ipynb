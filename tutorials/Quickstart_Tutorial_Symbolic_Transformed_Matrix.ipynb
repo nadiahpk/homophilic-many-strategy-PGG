{
 "cells": [
  {
   "cell_type": "code",
   "execution_count": 1,
   "id": "close-gasoline",
   "metadata": {},
   "outputs": [],
   "source": [
    "import IPython.display as disp"
   ]
  },
  {
   "cell_type": "markdown",
   "id": "sound-procedure",
   "metadata": {},
   "source": [
    "# Quickstart Tutorial: Working with the symbolic transformed payoff matrix\n",
    "\n",
    "The purpose of this tutorial is to show how the transformed payoff matrix can shed light on the evolutionary dynamics of a game under homophily. For this purpose, we will use a small 3-player public goods game with coordinated cooperation as our example. "
   ]
  },
  {
   "cell_type": "markdown",
   "id": "induced-tyler",
   "metadata": {},
   "source": [
    "## 1. Original and transformed payoff matrices\n",
    "\n",
    "We consider an example where the benefits returned from the public good have a sigmoid-like relationship with the number of contributors. \n",
    "\n",
    "Because the number of players is small ($n=3$), rather that specifying the benefits function in terms of a full sigmoid function, we instead define the benefit returned at each contribution level in terms of fixed parameters. Let $B(k)$ be the benefit returned from the public good when $k$ contribute, then we define\n",
    "\n",
    "$$\n",
    "[B(0), B(1), B(2), B(3)] = [0, \\beta, b-\\beta, b].\n",
    "$$\n",
    "\n",
    "We specify the coordinator quorum and contribution level $\\tau = 2$. As in the general sigmoid, the cost of contributing is $c$, and the cognitive cost to Coordinating Cooperators and Liars for the capacity to understand the game and coordinate is $\\varepsilon$."
   ]
  },
  {
   "cell_type": "markdown",
   "id": "sublime-system",
   "metadata": {},
   "source": [
    "We will be working with the Python library for symbolic mathematics `SymPy`, and the functions for automatically generating the payoff matrices are included in the repository."
   ]
  },
  {
   "cell_type": "code",
   "execution_count": 2,
   "id": "supposed-islam",
   "metadata": {},
   "outputs": [],
   "source": [
    "import sympy as sp\n",
    "\n",
    "import sys\n",
    "sys.path.append('../functions/')\n",
    "\n",
    "from symbolic_transformed import create_payoff_matrix\n",
    "from symbolic_transformed import create_transformed_payoff_matrix\n",
    "from symbolic_transformed import calc_switching_gains\n",
    "from symbolic_transformed import calc_invasion_fitness_terms"
   ]
  },
  {
   "cell_type": "markdown",
   "id": "recorded-retrieval",
   "metadata": {},
   "source": [
    "The first step is to specify our payoff function, which the function `create_payoff_matrix()` will use to generate the payoff matrix $A$. The function documentation specifies that the payoff function should have the form `pi(gamma_focal, gamma_nonfocal)`. \n",
    "\n",
    "The input `gamma_focal` is called $\\boldsymbol{\\gamma}_0$ in the main text. It is a symbolic matrix of length `m` with a `1` in the `i`-th position indicating that the focal individual plays strategy `i`.\n",
    "\n",
    "The input `gamma_nonfocal` is called $\\boldsymbol{\\gamma}_{-0}$ in the main text. It is a symbolic matrix of length `m` where the value of each entry `j` is how many individuals among the `n-1` nonfocal group members play strategy `j`.\n",
    "\n",
    "The function `pi(gamma_focal, gamma_nonfocal)` will return a symbolic expression."
   ]
  },
  {
   "cell_type": "code",
   "execution_count": 3,
   "id": "simplified-hollow",
   "metadata": {},
   "outputs": [],
   "source": [
    "def pi(gamma_f, gamma_n):\n",
    "\n",
    "    # fixed parameters that define the game\n",
    "    # ---\n",
    "\n",
    "    # defined\n",
    "    n = 3   # group size\n",
    "    tau = 2 # threshold\n",
    "\n",
    "    # symbolic - benefit, contrib cost, cognitive cost\n",
    "    b, c, eps, beta = sp.symbols('b, c, epsilon, beta')\n",
    "\n",
    "    # benefit function, PG returns b if no. contributors >= tau\n",
    "    B = lambda k: [0, beta, b-beta, b][k]\n",
    "\n",
    "    # strategies\n",
    "    strat_names = ['D', 'C', 'L', 'U']\n",
    "    m = len(strat_names)   # number of strategies\n",
    "\n",
    "\n",
    "    # calculate payoff to focal who plays gamma_f\n",
    "    # given other members play gamma_n\n",
    "\n",
    "    # whole group distribution\n",
    "    gamma = gamma_f + gamma_n\n",
    "\n",
    "    # count the number of each strategy in the group\n",
    "    countD, countC, countL, countU = gamma\n",
    "\n",
    "    # identify the focal strategy\n",
    "    focal_strat = [strat for strat, v in zip(['D', 'C', 'L', 'U'], gamma_f) if v == 1][0]\n",
    "\n",
    "    # payoff calculation depends on if lottery quorum is met\n",
    "\n",
    "    if countC + countL < tau: # if the lottery quorum is not met\n",
    "\n",
    "        k = countU                                      # only U will contribute\n",
    "        benefit = B(k) # benefit from PGG\n",
    "\n",
    "        # payoff returned depending on the strategy of the focal player\n",
    "        if focal_strat == 'U':\n",
    "\n",
    "            payoff_total = benefit - c\n",
    "\n",
    "        elif focal_strat == 'D':\n",
    "\n",
    "            payoff_total = benefit\n",
    "\n",
    "        else: # focal_strat == C or L\n",
    "\n",
    "            payoff_total = benefit - eps\n",
    "\n",
    "    else: # lottery quorum is met\n",
    "\n",
    "        # probability that j Coordinating Cooperators will be designated as contributors by the lottery\n",
    "        denom = sp.binomial(countC + countL, tau)\n",
    "        PjV = [sp.binomial(countC, j)*sp.binomial(countL, tau-j)/denom for j in range(0, tau+1)]\n",
    "\n",
    "        # the benefit returned for each j\n",
    "        benefitjV = [B(j+countU) for j in range(0, tau+1)]\n",
    "\n",
    "        # payoff returned depending on the strategy of the focal player\n",
    "        if focal_strat == 'U':\n",
    "\n",
    "            payoff_total = sum(Pj*benefitj for Pj, benefitj in zip(PjV, benefitjV)) - c\n",
    "\n",
    "        elif focal_strat == 'D':\n",
    "\n",
    "            payoff_total = sum(Pj*benefitj for Pj, benefitj in zip(PjV, benefitjV))\n",
    "\n",
    "        elif focal_strat == 'C':\n",
    "\n",
    "            payoff_total = sum(PjV[j]*(benefitjV[j] - c*j/countC) for j in range(0, tau+1)) - eps\n",
    "\n",
    "        else: # focal_strat == 'L':\n",
    "\n",
    "            payoff_total = sum(Pj*benefitj for Pj, benefitj in zip(PjV, benefitjV)) - eps\n",
    "\n",
    "\n",
    "    return payoff_total\n",
    "\n"
   ]
  },
  {
   "cell_type": "markdown",
   "id": "waiting-chest",
   "metadata": {},
   "source": [
    "The original matrix is created as follows:"
   ]
  },
  {
   "cell_type": "code",
   "execution_count": 4,
   "id": "partial-speaking",
   "metadata": {},
   "outputs": [
    {
     "data": {
      "text/latex": [
       "$\\displaystyle \\left[\\begin{matrix}\\left[\\begin{matrix}0 & 0 & 0 & \\beta\\\\0 & b - \\beta & \\beta & \\beta\\\\0 & \\beta & 0 & \\beta\\\\\\beta & \\beta & \\beta & b - \\beta\\end{matrix}\\right] & \\left[\\begin{matrix}- \\epsilon & b - \\beta - c - \\epsilon & \\beta - c - \\epsilon & \\beta - \\epsilon\\\\b - \\beta - c - \\epsilon & b - \\beta - \\frac{2 c}{3} - \\epsilon & \\frac{b}{3} + \\frac{\\beta}{3} - \\frac{2 c}{3} - \\epsilon & b - c - \\epsilon\\\\\\beta - c - \\epsilon & \\frac{b}{3} + \\frac{\\beta}{3} - \\frac{2 c}{3} - \\epsilon & \\frac{2 \\beta}{3} - \\frac{2 c}{3} - \\epsilon & b - \\beta - c - \\epsilon\\\\\\beta - \\epsilon & b - c - \\epsilon & b - \\beta - c - \\epsilon & b - \\beta - \\epsilon\\end{matrix}\\right] & \\left[\\begin{matrix}- \\epsilon & \\beta - \\epsilon & - \\epsilon & \\beta - \\epsilon\\\\\\beta - \\epsilon & \\frac{b}{3} + \\frac{\\beta}{3} - \\epsilon & \\frac{2 \\beta}{3} - \\epsilon & b - \\beta - \\epsilon\\\\- \\epsilon & \\frac{2 \\beta}{3} - \\epsilon & - \\epsilon & \\beta - \\epsilon\\\\\\beta - \\epsilon & b - \\beta - \\epsilon & \\beta - \\epsilon & b - \\beta - \\epsilon\\end{matrix}\\right] & \\left[\\begin{matrix}\\beta - c & \\beta - c & \\beta - c & b - \\beta - c\\\\\\beta - c & b - c & b - \\beta - c & b - \\beta - c\\\\\\beta - c & b - \\beta - c & \\beta - c & b - \\beta - c\\\\b - \\beta - c & b - \\beta - c & b - \\beta - c & b - c\\end{matrix}\\right]\\end{matrix}\\right]$"
      ],
      "text/plain": [
       "[[[0, 0, 0, beta], [0, b - beta, beta, beta], [0, beta, 0, beta], [beta, beta, beta, b - beta]], [[-epsilon, b - beta - c - epsilon, beta - c - epsilon, beta - epsilon], [b - beta - c - epsilon, b - beta - 2*c/3 - epsilon, b/3 + beta/3 - 2*c/3 - epsilon, b - c - epsilon], [beta - c - epsilon, b/3 + beta/3 - 2*c/3 - epsilon, 2*beta/3 - 2*c/3 - epsilon, b - beta - c - epsilon], [beta - epsilon, b - c - epsilon, b - beta - c - epsilon, b - beta - epsilon]], [[-epsilon, beta - epsilon, -epsilon, beta - epsilon], [beta - epsilon, b/3 + beta/3 - epsilon, 2*beta/3 - epsilon, b - beta - epsilon], [-epsilon, 2*beta/3 - epsilon, -epsilon, beta - epsilon], [beta - epsilon, b - beta - epsilon, beta - epsilon, b - beta - epsilon]], [[beta - c, beta - c, beta - c, b - beta - c], [beta - c, b - c, b - beta - c, b - beta - c], [beta - c, b - beta - c, beta - c, b - beta - c], [b - beta - c, b - beta - c, b - beta - c, b - c]]]"
      ]
     },
     "execution_count": 4,
     "metadata": {},
     "output_type": "execute_result"
    }
   ],
   "source": [
    "n = 3 # number of individuals in the group\n",
    "m = 4 # number of strategies\n",
    "\n",
    "A = create_payoff_matrix(n, m, pi)\n",
    "A"
   ]
  },
  {
   "cell_type": "markdown",
   "id": "complete-translation",
   "metadata": {},
   "source": [
    "The transformed payoff matrix is created from $A$ as follows:"
   ]
  },
  {
   "cell_type": "code",
   "execution_count": 5,
   "id": "flying-municipality",
   "metadata": {},
   "outputs": [
    {
     "data": {
      "text/latex": [
       "$\\displaystyle \\left[\\begin{matrix}\\left[\\begin{matrix}0 & \\frac{F_{2} \\left(b - \\beta\\right)}{6} & 0 & F_{1} \\beta + \\frac{F_{2} \\beta}{3} + \\frac{F_{2} \\left(b - \\beta\\right)}{6}\\\\\\frac{F_{2} \\left(b - \\beta\\right)}{6} & F_{1} \\left(b - \\beta\\right) + \\frac{F_{2} \\left(b - \\beta\\right)}{3} & F_{1} \\beta + \\frac{F_{2} \\left(b - \\beta\\right)}{6} & F_{1} \\beta + \\frac{F_{2} \\beta}{3} + \\frac{F_{2} \\left(b - \\beta\\right)}{3}\\\\0 & F_{1} \\beta + \\frac{F_{2} \\left(b - \\beta\\right)}{6} & 0 & F_{1} \\beta + \\frac{F_{2} \\beta}{3} + \\frac{F_{2} \\left(b - \\beta\\right)}{6}\\\\F_{1} \\beta + \\frac{F_{2} \\beta}{3} + \\frac{F_{2} \\left(b - \\beta\\right)}{6} & F_{1} \\beta + \\frac{F_{2} \\beta}{3} + \\frac{F_{2} \\left(b - \\beta\\right)}{3} & F_{1} \\beta + \\frac{F_{2} \\beta}{3} + \\frac{F_{2} \\left(b - \\beta\\right)}{6} & F_{1} \\left(b - \\beta\\right) + \\frac{2 F_{2} \\beta}{3} + \\frac{F_{2} \\left(b - \\beta\\right)}{3}\\end{matrix}\\right] & \\left[\\begin{matrix}- F_{1} \\epsilon - \\frac{F_{2} \\epsilon}{3} + \\frac{2 F_{2} \\left(b - \\beta - c - \\epsilon\\right)}{3} + F_{3} \\left(b - \\beta - \\frac{2 c}{3} - \\epsilon\\right) & F_{1} \\left(b - \\beta - c - \\epsilon\\right) - \\frac{F_{2} \\epsilon}{6} + \\frac{F_{2} \\left(b - \\beta - c - \\epsilon\\right)}{3} + \\frac{F_{2} \\left(b - \\beta - \\frac{2 c}{3} - \\epsilon\\right)}{2} + F_{3} \\left(b - \\beta - \\frac{2 c}{3} - \\epsilon\\right) & F_{1} \\left(\\beta - c - \\epsilon\\right) - \\frac{F_{2} \\epsilon}{6} + \\frac{F_{2} \\cdot \\left(\\frac{2 \\beta}{3} - \\frac{2 c}{3} - \\epsilon\\right)}{6} + \\frac{F_{2} \\left(\\frac{b}{3} + \\frac{\\beta}{3} - \\frac{2 c}{3} - \\epsilon\\right)}{3} + \\frac{F_{2} \\left(b - \\beta - c - \\epsilon\\right)}{3} + F_{3} \\left(b - \\beta - \\frac{2 c}{3} - \\epsilon\\right) & F_{1} \\left(\\beta - \\epsilon\\right) - \\frac{F_{2} \\epsilon}{6} + \\frac{F_{2} \\left(b - \\beta - \\epsilon\\right)}{6} + \\frac{F_{2} \\left(b - c - \\epsilon\\right)}{3} + \\frac{F_{2} \\left(b - \\beta - c - \\epsilon\\right)}{3} + F_{3} \\left(b - \\beta - \\frac{2 c}{3} - \\epsilon\\right)\\\\F_{1} \\left(b - \\beta - c - \\epsilon\\right) - \\frac{F_{2} \\epsilon}{6} + \\frac{F_{2} \\left(b - \\beta - c - \\epsilon\\right)}{3} + \\frac{F_{2} \\left(b - \\beta - \\frac{2 c}{3} - \\epsilon\\right)}{2} + F_{3} \\left(b - \\beta - \\frac{2 c}{3} - \\epsilon\\right) & F_{1} \\left(b - \\beta - \\frac{2 c}{3} - \\epsilon\\right) + F_{2} \\left(b - \\beta - \\frac{2 c}{3} - \\epsilon\\right) + F_{3} \\left(b - \\beta - \\frac{2 c}{3} - \\epsilon\\right) & F_{1} \\left(\\frac{b}{3} + \\frac{\\beta}{3} - \\frac{2 c}{3} - \\epsilon\\right) + \\frac{F_{2} \\cdot \\left(\\frac{2 \\beta}{3} - \\frac{2 c}{3} - \\epsilon\\right)}{6} + \\frac{F_{2} \\left(\\frac{b}{3} + \\frac{\\beta}{3} - \\frac{2 c}{3} - \\epsilon\\right)}{3} + \\frac{F_{2} \\left(b - \\beta - \\frac{2 c}{3} - \\epsilon\\right)}{2} + F_{3} \\left(b - \\beta - \\frac{2 c}{3} - \\epsilon\\right) & F_{1} \\left(b - c - \\epsilon\\right) + \\frac{F_{2} \\left(b - \\beta - \\epsilon\\right)}{6} + \\frac{F_{2} \\left(b - c - \\epsilon\\right)}{3} + \\frac{F_{2} \\left(b - \\beta - \\frac{2 c}{3} - \\epsilon\\right)}{2} + F_{3} \\left(b - \\beta - \\frac{2 c}{3} - \\epsilon\\right)\\\\F_{1} \\left(\\beta - c - \\epsilon\\right) - \\frac{F_{2} \\epsilon}{6} + \\frac{F_{2} \\cdot \\left(\\frac{2 \\beta}{3} - \\frac{2 c}{3} - \\epsilon\\right)}{6} + \\frac{F_{2} \\left(\\frac{b}{3} + \\frac{\\beta}{3} - \\frac{2 c}{3} - \\epsilon\\right)}{3} + \\frac{F_{2} \\left(b - \\beta - c - \\epsilon\\right)}{3} + F_{3} \\left(b - \\beta - \\frac{2 c}{3} - \\epsilon\\right) & F_{1} \\left(\\frac{b}{3} + \\frac{\\beta}{3} - \\frac{2 c}{3} - \\epsilon\\right) + \\frac{F_{2} \\cdot \\left(\\frac{2 \\beta}{3} - \\frac{2 c}{3} - \\epsilon\\right)}{6} + \\frac{F_{2} \\left(\\frac{b}{3} + \\frac{\\beta}{3} - \\frac{2 c}{3} - \\epsilon\\right)}{3} + \\frac{F_{2} \\left(b - \\beta - \\frac{2 c}{3} - \\epsilon\\right)}{2} + F_{3} \\left(b - \\beta - \\frac{2 c}{3} - \\epsilon\\right) & F_{1} \\cdot \\left(\\frac{2 \\beta}{3} - \\frac{2 c}{3} - \\epsilon\\right) + \\frac{F_{2} \\cdot \\left(\\frac{2 \\beta}{3} - \\frac{2 c}{3} - \\epsilon\\right)}{3} + \\frac{2 F_{2} \\left(\\frac{b}{3} + \\frac{\\beta}{3} - \\frac{2 c}{3} - \\epsilon\\right)}{3} + F_{3} \\left(b - \\beta - \\frac{2 c}{3} - \\epsilon\\right) & F_{1} \\left(b - \\beta - c - \\epsilon\\right) + \\frac{F_{2} \\left(b - \\beta - \\epsilon\\right)}{6} + \\frac{F_{2} \\left(b - c - \\epsilon\\right)}{3} + \\frac{F_{2} \\cdot \\left(\\frac{2 \\beta}{3} - \\frac{2 c}{3} - \\epsilon\\right)}{6} + \\frac{F_{2} \\left(\\frac{b}{3} + \\frac{\\beta}{3} - \\frac{2 c}{3} - \\epsilon\\right)}{3} + F_{3} \\left(b - \\beta - \\frac{2 c}{3} - \\epsilon\\right)\\\\F_{1} \\left(\\beta - \\epsilon\\right) - \\frac{F_{2} \\epsilon}{6} + \\frac{F_{2} \\left(b - \\beta - \\epsilon\\right)}{6} + \\frac{F_{2} \\left(b - c - \\epsilon\\right)}{3} + \\frac{F_{2} \\left(b - \\beta - c - \\epsilon\\right)}{3} + F_{3} \\left(b - \\beta - \\frac{2 c}{3} - \\epsilon\\right) & F_{1} \\left(b - c - \\epsilon\\right) + \\frac{F_{2} \\left(b - \\beta - \\epsilon\\right)}{6} + \\frac{F_{2} \\left(b - c - \\epsilon\\right)}{3} + \\frac{F_{2} \\left(b - \\beta - \\frac{2 c}{3} - \\epsilon\\right)}{2} + F_{3} \\left(b - \\beta - \\frac{2 c}{3} - \\epsilon\\right) & F_{1} \\left(b - \\beta - c - \\epsilon\\right) + \\frac{F_{2} \\left(b - \\beta - \\epsilon\\right)}{6} + \\frac{F_{2} \\left(b - c - \\epsilon\\right)}{3} + \\frac{F_{2} \\cdot \\left(\\frac{2 \\beta}{3} - \\frac{2 c}{3} - \\epsilon\\right)}{6} + \\frac{F_{2} \\left(\\frac{b}{3} + \\frac{\\beta}{3} - \\frac{2 c}{3} - \\epsilon\\right)}{3} + F_{3} \\left(b - \\beta - \\frac{2 c}{3} - \\epsilon\\right) & F_{1} \\left(b - \\beta - \\epsilon\\right) + \\frac{F_{2} \\left(b - \\beta - \\epsilon\\right)}{3} + \\frac{2 F_{2} \\left(b - c - \\epsilon\\right)}{3} + F_{3} \\left(b - \\beta - \\frac{2 c}{3} - \\epsilon\\right)\\end{matrix}\\right] & \\left[\\begin{matrix}- F_{1} \\epsilon - F_{2} \\epsilon - F_{3} \\epsilon & F_{1} \\left(\\beta - \\epsilon\\right) - \\frac{F_{2} \\epsilon}{2} + \\frac{F_{2} \\cdot \\left(\\frac{2 \\beta}{3} - \\epsilon\\right)}{3} + \\frac{F_{2} \\left(\\frac{b}{3} + \\frac{\\beta}{3} - \\epsilon\\right)}{6} - F_{3} \\epsilon & - F_{1} \\epsilon - F_{2} \\epsilon - F_{3} \\epsilon & F_{1} \\left(\\beta - \\epsilon\\right) - \\frac{F_{2} \\epsilon}{2} + \\frac{F_{2} \\left(\\beta - \\epsilon\\right)}{3} + \\frac{F_{2} \\left(b - \\beta - \\epsilon\\right)}{6} - F_{3} \\epsilon\\\\F_{1} \\left(\\beta - \\epsilon\\right) - \\frac{F_{2} \\epsilon}{2} + \\frac{F_{2} \\cdot \\left(\\frac{2 \\beta}{3} - \\epsilon\\right)}{3} + \\frac{F_{2} \\left(\\frac{b}{3} + \\frac{\\beta}{3} - \\epsilon\\right)}{6} - F_{3} \\epsilon & F_{1} \\left(\\frac{b}{3} + \\frac{\\beta}{3} - \\epsilon\\right) + \\frac{2 F_{2} \\cdot \\left(\\frac{2 \\beta}{3} - \\epsilon\\right)}{3} + \\frac{F_{2} \\left(\\frac{b}{3} + \\frac{\\beta}{3} - \\epsilon\\right)}{3} - F_{3} \\epsilon & F_{1} \\cdot \\left(\\frac{2 \\beta}{3} - \\epsilon\\right) - \\frac{F_{2} \\epsilon}{2} + \\frac{F_{2} \\cdot \\left(\\frac{2 \\beta}{3} - \\epsilon\\right)}{3} + \\frac{F_{2} \\left(\\frac{b}{3} + \\frac{\\beta}{3} - \\epsilon\\right)}{6} - F_{3} \\epsilon & F_{1} \\left(b - \\beta - \\epsilon\\right) + \\frac{F_{2} \\cdot \\left(\\frac{2 \\beta}{3} - \\epsilon\\right)}{3} + \\frac{F_{2} \\left(\\beta - \\epsilon\\right)}{3} + \\frac{F_{2} \\left(\\frac{b}{3} + \\frac{\\beta}{3} - \\epsilon\\right)}{6} + \\frac{F_{2} \\left(b - \\beta - \\epsilon\\right)}{6} - F_{3} \\epsilon\\\\- F_{1} \\epsilon - F_{2} \\epsilon - F_{3} \\epsilon & F_{1} \\cdot \\left(\\frac{2 \\beta}{3} - \\epsilon\\right) - \\frac{F_{2} \\epsilon}{2} + \\frac{F_{2} \\cdot \\left(\\frac{2 \\beta}{3} - \\epsilon\\right)}{3} + \\frac{F_{2} \\left(\\frac{b}{3} + \\frac{\\beta}{3} - \\epsilon\\right)}{6} - F_{3} \\epsilon & - F_{1} \\epsilon - F_{2} \\epsilon - F_{3} \\epsilon & F_{1} \\left(\\beta - \\epsilon\\right) - \\frac{F_{2} \\epsilon}{2} + \\frac{F_{2} \\left(\\beta - \\epsilon\\right)}{3} + \\frac{F_{2} \\left(b - \\beta - \\epsilon\\right)}{6} - F_{3} \\epsilon\\\\F_{1} \\left(\\beta - \\epsilon\\right) - \\frac{F_{2} \\epsilon}{2} + \\frac{F_{2} \\left(\\beta - \\epsilon\\right)}{3} + \\frac{F_{2} \\left(b - \\beta - \\epsilon\\right)}{6} - F_{3} \\epsilon & F_{1} \\left(b - \\beta - \\epsilon\\right) + \\frac{F_{2} \\cdot \\left(\\frac{2 \\beta}{3} - \\epsilon\\right)}{3} + \\frac{F_{2} \\left(\\beta - \\epsilon\\right)}{3} + \\frac{F_{2} \\left(\\frac{b}{3} + \\frac{\\beta}{3} - \\epsilon\\right)}{6} + \\frac{F_{2} \\left(b - \\beta - \\epsilon\\right)}{6} - F_{3} \\epsilon & F_{1} \\left(\\beta - \\epsilon\\right) - \\frac{F_{2} \\epsilon}{2} + \\frac{F_{2} \\left(\\beta - \\epsilon\\right)}{3} + \\frac{F_{2} \\left(b - \\beta - \\epsilon\\right)}{6} - F_{3} \\epsilon & F_{1} \\left(b - \\beta - \\epsilon\\right) + \\frac{2 F_{2} \\left(\\beta - \\epsilon\\right)}{3} + \\frac{F_{2} \\left(b - \\beta - \\epsilon\\right)}{3} - F_{3} \\epsilon\\end{matrix}\\right] & \\left[\\begin{matrix}F_{1} \\left(\\beta - c\\right) + \\frac{F_{2} \\left(\\beta - c\\right)}{3} + \\frac{2 F_{2} \\left(b - \\beta - c\\right)}{3} + F_{3} \\left(b - c\\right) & F_{1} \\left(\\beta - c\\right) + \\frac{F_{2} \\left(b - c\\right)}{6} + \\frac{F_{2} \\left(\\beta - c\\right)}{6} + \\frac{2 F_{2} \\left(b - \\beta - c\\right)}{3} + F_{3} \\left(b - c\\right) & F_{1} \\left(\\beta - c\\right) + \\frac{F_{2} \\left(\\beta - c\\right)}{3} + \\frac{2 F_{2} \\left(b - \\beta - c\\right)}{3} + F_{3} \\left(b - c\\right) & F_{1} \\left(b - \\beta - c\\right) + \\frac{F_{2} \\left(b - c\\right)}{2} + \\frac{F_{2} \\left(\\beta - c\\right)}{6} + \\frac{F_{2} \\left(b - \\beta - c\\right)}{3} + F_{3} \\left(b - c\\right)\\\\F_{1} \\left(\\beta - c\\right) + \\frac{F_{2} \\left(b - c\\right)}{6} + \\frac{F_{2} \\left(\\beta - c\\right)}{6} + \\frac{2 F_{2} \\left(b - \\beta - c\\right)}{3} + F_{3} \\left(b - c\\right) & F_{1} \\left(b - c\\right) + \\frac{F_{2} \\left(b - c\\right)}{3} + \\frac{2 F_{2} \\left(b - \\beta - c\\right)}{3} + F_{3} \\left(b - c\\right) & F_{1} \\left(b - \\beta - c\\right) + \\frac{F_{2} \\left(b - c\\right)}{6} + \\frac{F_{2} \\left(\\beta - c\\right)}{6} + \\frac{2 F_{2} \\left(b - \\beta - c\\right)}{3} + F_{3} \\left(b - c\\right) & F_{1} \\left(b - \\beta - c\\right) + \\frac{2 F_{2} \\left(b - c\\right)}{3} + \\frac{F_{2} \\left(b - \\beta - c\\right)}{3} + F_{3} \\left(b - c\\right)\\\\F_{1} \\left(\\beta - c\\right) + \\frac{F_{2} \\left(\\beta - c\\right)}{3} + \\frac{2 F_{2} \\left(b - \\beta - c\\right)}{3} + F_{3} \\left(b - c\\right) & F_{1} \\left(b - \\beta - c\\right) + \\frac{F_{2} \\left(b - c\\right)}{6} + \\frac{F_{2} \\left(\\beta - c\\right)}{6} + \\frac{2 F_{2} \\left(b - \\beta - c\\right)}{3} + F_{3} \\left(b - c\\right) & F_{1} \\left(\\beta - c\\right) + \\frac{F_{2} \\left(\\beta - c\\right)}{3} + \\frac{2 F_{2} \\left(b - \\beta - c\\right)}{3} + F_{3} \\left(b - c\\right) & F_{1} \\left(b - \\beta - c\\right) + \\frac{F_{2} \\left(b - c\\right)}{2} + \\frac{F_{2} \\left(\\beta - c\\right)}{6} + \\frac{F_{2} \\left(b - \\beta - c\\right)}{3} + F_{3} \\left(b - c\\right)\\\\F_{1} \\left(b - \\beta - c\\right) + \\frac{F_{2} \\left(b - c\\right)}{2} + \\frac{F_{2} \\left(\\beta - c\\right)}{6} + \\frac{F_{2} \\left(b - \\beta - c\\right)}{3} + F_{3} \\left(b - c\\right) & F_{1} \\left(b - \\beta - c\\right) + \\frac{2 F_{2} \\left(b - c\\right)}{3} + \\frac{F_{2} \\left(b - \\beta - c\\right)}{3} + F_{3} \\left(b - c\\right) & F_{1} \\left(b - \\beta - c\\right) + \\frac{F_{2} \\left(b - c\\right)}{2} + \\frac{F_{2} \\left(\\beta - c\\right)}{6} + \\frac{F_{2} \\left(b - \\beta - c\\right)}{3} + F_{3} \\left(b - c\\right) & F_{1} \\left(b - c\\right) + F_{2} \\left(b - c\\right) + F_{3} \\left(b - c\\right)\\end{matrix}\\right]\\end{matrix}\\right]$"
      ],
      "text/plain": [
       "[[[0, F_2*(b - beta)/6, 0, F_1*beta + F_2*beta/3 + F_2*(b - beta)/6], [F_2*(b - beta)/6, F_1*(b - beta) + F_2*(b - beta)/3, F_1*beta + F_2*(b - beta)/6, F_1*beta + F_2*beta/3 + F_2*(b - beta)/3], [0, F_1*beta + F_2*(b - beta)/6, 0, F_1*beta + F_2*beta/3 + F_2*(b - beta)/6], [F_1*beta + F_2*beta/3 + F_2*(b - beta)/6, F_1*beta + F_2*beta/3 + F_2*(b - beta)/3, F_1*beta + F_2*beta/3 + F_2*(b - beta)/6, F_1*(b - beta) + 2*F_2*beta/3 + F_2*(b - beta)/3]], [[-F_1*epsilon - F_2*epsilon/3 + 2*F_2*(b - beta - c - epsilon)/3 + F_3*(b - beta - 2*c/3 - epsilon), F_1*(b - beta - c - epsilon) - F_2*epsilon/6 + F_2*(b - beta - c - epsilon)/3 + F_2*(b - beta - 2*c/3 - epsilon)/2 + F_3*(b - beta - 2*c/3 - epsilon), F_1*(beta - c - epsilon) - F_2*epsilon/6 + F_2*(2*beta/3 - 2*c/3 - epsilon)/6 + F_2*(b/3 + beta/3 - 2*c/3 - epsilon)/3 + F_2*(b - beta - c - epsilon)/3 + F_3*(b - beta - 2*c/3 - epsilon), F_1*(beta - epsilon) - F_2*epsilon/6 + F_2*(b - beta - epsilon)/6 + F_2*(b - c - epsilon)/3 + F_2*(b - beta - c - epsilon)/3 + F_3*(b - beta - 2*c/3 - epsilon)], [F_1*(b - beta - c - epsilon) - F_2*epsilon/6 + F_2*(b - beta - c - epsilon)/3 + F_2*(b - beta - 2*c/3 - epsilon)/2 + F_3*(b - beta - 2*c/3 - epsilon), F_1*(b - beta - 2*c/3 - epsilon) + F_2*(b - beta - 2*c/3 - epsilon) + F_3*(b - beta - 2*c/3 - epsilon), F_1*(b/3 + beta/3 - 2*c/3 - epsilon) + F_2*(2*beta/3 - 2*c/3 - epsilon)/6 + F_2*(b/3 + beta/3 - 2*c/3 - epsilon)/3 + F_2*(b - beta - 2*c/3 - epsilon)/2 + F_3*(b - beta - 2*c/3 - epsilon), F_1*(b - c - epsilon) + F_2*(b - beta - epsilon)/6 + F_2*(b - c - epsilon)/3 + F_2*(b - beta - 2*c/3 - epsilon)/2 + F_3*(b - beta - 2*c/3 - epsilon)], [F_1*(beta - c - epsilon) - F_2*epsilon/6 + F_2*(2*beta/3 - 2*c/3 - epsilon)/6 + F_2*(b/3 + beta/3 - 2*c/3 - epsilon)/3 + F_2*(b - beta - c - epsilon)/3 + F_3*(b - beta - 2*c/3 - epsilon), F_1*(b/3 + beta/3 - 2*c/3 - epsilon) + F_2*(2*beta/3 - 2*c/3 - epsilon)/6 + F_2*(b/3 + beta/3 - 2*c/3 - epsilon)/3 + F_2*(b - beta - 2*c/3 - epsilon)/2 + F_3*(b - beta - 2*c/3 - epsilon), F_1*(2*beta/3 - 2*c/3 - epsilon) + F_2*(2*beta/3 - 2*c/3 - epsilon)/3 + 2*F_2*(b/3 + beta/3 - 2*c/3 - epsilon)/3 + F_3*(b - beta - 2*c/3 - epsilon), F_1*(b - beta - c - epsilon) + F_2*(b - beta - epsilon)/6 + F_2*(b - c - epsilon)/3 + F_2*(2*beta/3 - 2*c/3 - epsilon)/6 + F_2*(b/3 + beta/3 - 2*c/3 - epsilon)/3 + F_3*(b - beta - 2*c/3 - epsilon)], [F_1*(beta - epsilon) - F_2*epsilon/6 + F_2*(b - beta - epsilon)/6 + F_2*(b - c - epsilon)/3 + F_2*(b - beta - c - epsilon)/3 + F_3*(b - beta - 2*c/3 - epsilon), F_1*(b - c - epsilon) + F_2*(b - beta - epsilon)/6 + F_2*(b - c - epsilon)/3 + F_2*(b - beta - 2*c/3 - epsilon)/2 + F_3*(b - beta - 2*c/3 - epsilon), F_1*(b - beta - c - epsilon) + F_2*(b - beta - epsilon)/6 + F_2*(b - c - epsilon)/3 + F_2*(2*beta/3 - 2*c/3 - epsilon)/6 + F_2*(b/3 + beta/3 - 2*c/3 - epsilon)/3 + F_3*(b - beta - 2*c/3 - epsilon), F_1*(b - beta - epsilon) + F_2*(b - beta - epsilon)/3 + 2*F_2*(b - c - epsilon)/3 + F_3*(b - beta - 2*c/3 - epsilon)]], [[-F_1*epsilon - F_2*epsilon - F_3*epsilon, F_1*(beta - epsilon) - F_2*epsilon/2 + F_2*(2*beta/3 - epsilon)/3 + F_2*(b/3 + beta/3 - epsilon)/6 - F_3*epsilon, -F_1*epsilon - F_2*epsilon - F_3*epsilon, F_1*(beta - epsilon) - F_2*epsilon/2 + F_2*(beta - epsilon)/3 + F_2*(b - beta - epsilon)/6 - F_3*epsilon], [F_1*(beta - epsilon) - F_2*epsilon/2 + F_2*(2*beta/3 - epsilon)/3 + F_2*(b/3 + beta/3 - epsilon)/6 - F_3*epsilon, F_1*(b/3 + beta/3 - epsilon) + 2*F_2*(2*beta/3 - epsilon)/3 + F_2*(b/3 + beta/3 - epsilon)/3 - F_3*epsilon, F_1*(2*beta/3 - epsilon) - F_2*epsilon/2 + F_2*(2*beta/3 - epsilon)/3 + F_2*(b/3 + beta/3 - epsilon)/6 - F_3*epsilon, F_1*(b - beta - epsilon) + F_2*(2*beta/3 - epsilon)/3 + F_2*(beta - epsilon)/3 + F_2*(b/3 + beta/3 - epsilon)/6 + F_2*(b - beta - epsilon)/6 - F_3*epsilon], [-F_1*epsilon - F_2*epsilon - F_3*epsilon, F_1*(2*beta/3 - epsilon) - F_2*epsilon/2 + F_2*(2*beta/3 - epsilon)/3 + F_2*(b/3 + beta/3 - epsilon)/6 - F_3*epsilon, -F_1*epsilon - F_2*epsilon - F_3*epsilon, F_1*(beta - epsilon) - F_2*epsilon/2 + F_2*(beta - epsilon)/3 + F_2*(b - beta - epsilon)/6 - F_3*epsilon], [F_1*(beta - epsilon) - F_2*epsilon/2 + F_2*(beta - epsilon)/3 + F_2*(b - beta - epsilon)/6 - F_3*epsilon, F_1*(b - beta - epsilon) + F_2*(2*beta/3 - epsilon)/3 + F_2*(beta - epsilon)/3 + F_2*(b/3 + beta/3 - epsilon)/6 + F_2*(b - beta - epsilon)/6 - F_3*epsilon, F_1*(beta - epsilon) - F_2*epsilon/2 + F_2*(beta - epsilon)/3 + F_2*(b - beta - epsilon)/6 - F_3*epsilon, F_1*(b - beta - epsilon) + 2*F_2*(beta - epsilon)/3 + F_2*(b - beta - epsilon)/3 - F_3*epsilon]], [[F_1*(beta - c) + F_2*(beta - c)/3 + 2*F_2*(b - beta - c)/3 + F_3*(b - c), F_1*(beta - c) + F_2*(b - c)/6 + F_2*(beta - c)/6 + 2*F_2*(b - beta - c)/3 + F_3*(b - c), F_1*(beta - c) + F_2*(beta - c)/3 + 2*F_2*(b - beta - c)/3 + F_3*(b - c), F_1*(b - beta - c) + F_2*(b - c)/2 + F_2*(beta - c)/6 + F_2*(b - beta - c)/3 + F_3*(b - c)], [F_1*(beta - c) + F_2*(b - c)/6 + F_2*(beta - c)/6 + 2*F_2*(b - beta - c)/3 + F_3*(b - c), F_1*(b - c) + F_2*(b - c)/3 + 2*F_2*(b - beta - c)/3 + F_3*(b - c), F_1*(b - beta - c) + F_2*(b - c)/6 + F_2*(beta - c)/6 + 2*F_2*(b - beta - c)/3 + F_3*(b - c), F_1*(b - beta - c) + 2*F_2*(b - c)/3 + F_2*(b - beta - c)/3 + F_3*(b - c)], [F_1*(beta - c) + F_2*(beta - c)/3 + 2*F_2*(b - beta - c)/3 + F_3*(b - c), F_1*(b - beta - c) + F_2*(b - c)/6 + F_2*(beta - c)/6 + 2*F_2*(b - beta - c)/3 + F_3*(b - c), F_1*(beta - c) + F_2*(beta - c)/3 + 2*F_2*(b - beta - c)/3 + F_3*(b - c), F_1*(b - beta - c) + F_2*(b - c)/2 + F_2*(beta - c)/6 + F_2*(b - beta - c)/3 + F_3*(b - c)], [F_1*(b - beta - c) + F_2*(b - c)/2 + F_2*(beta - c)/6 + F_2*(b - beta - c)/3 + F_3*(b - c), F_1*(b - beta - c) + 2*F_2*(b - c)/3 + F_2*(b - beta - c)/3 + F_3*(b - c), F_1*(b - beta - c) + F_2*(b - c)/2 + F_2*(beta - c)/6 + F_2*(b - beta - c)/3 + F_3*(b - c), F_1*(b - c) + F_2*(b - c) + F_3*(b - c)]]]"
      ]
     },
     "execution_count": 5,
     "metadata": {},
     "output_type": "execute_result"
    }
   ],
   "source": [
    "B = create_transformed_payoff_matrix(A)\n",
    "B"
   ]
  },
  {
   "cell_type": "markdown",
   "id": "prompt-thailand",
   "metadata": {},
   "source": [
    "Note the subscripts used for the partition-structure probabilities $F$ refer to an indexation of the partitions of $n$, which is the ordering used in the SI about relatedness coefficients, and is the ordering in which they returned by the `utilities` function `partitionInteger()`. \n",
    "\n",
    "In this example, $F_1 \\equiv F_{[1,1,1]}$, $F_2 \\equiv F_{[2,1]}$, and $F_3 \\equiv F_{[3]}$."
   ]
  },
  {
   "cell_type": "code",
   "execution_count": 6,
   "id": "abstract-palace",
   "metadata": {},
   "outputs": [
    {
     "data": {
      "text/plain": [
       "[[1, 1, 1], [1, 2], [3]]"
      ]
     },
     "execution_count": 6,
     "metadata": {},
     "output_type": "execute_result"
    }
   ],
   "source": [
    "from utilities import partitionInteger\n",
    "\n",
    "partnV = list(partitionInteger(n))\n",
    "partnV"
   ]
  },
  {
   "cell_type": "markdown",
   "id": "super-stream",
   "metadata": {},
   "source": [
    "## 2. Switching gains analysis\n",
    "\n",
    "Taking inspiration from Peña et al. (2014), we can use the transformed payoffs to gain qualitative insights into the game under homophily. Symbolic expressions for the switching gains between pairs of strategies (along with the payoffs) can be generated using the function `calc_switching_gains()`. Below, we will do two small examples to illustrate the kind of analysis that is possible."
   ]
  },
  {
   "cell_type": "markdown",
   "id": "2ab67403",
   "metadata": {},
   "source": [
    "### 2.1 Example: Coordinating Cooperators versus Unconditional Defectors"
   ]
  },
  {
   "cell_type": "markdown",
   "id": "c7dfeb37",
   "metadata": {},
   "source": [
    "#### No homophily"
   ]
  },
  {
   "cell_type": "markdown",
   "id": "157ec002",
   "metadata": {},
   "source": [
    "The switching gains from C (strategy 1) to D (strategy 0) under zero homophily are:"
   ]
  },
  {
   "cell_type": "code",
   "execution_count": 7,
   "id": "fc52ece3",
   "metadata": {},
   "outputs": [
    {
     "name": "stdout",
     "output_type": "stream",
     "text": [
      "d_0 =\n"
     ]
    },
    {
     "data": {
      "text/latex": [
       "$\\displaystyle \\frac{2 c}{3} + \\epsilon$"
      ],
      "text/plain": [
       "2*c/3 + epsilon"
      ]
     },
     "metadata": {},
     "output_type": "display_data"
    },
    {
     "name": "stdout",
     "output_type": "stream",
     "text": [
      "d_1 =\n"
     ]
    },
    {
     "data": {
      "text/latex": [
       "$\\displaystyle - b + \\beta + c + \\epsilon$"
      ],
      "text/plain": [
       "-b + beta + c + epsilon"
      ]
     },
     "metadata": {},
     "output_type": "display_data"
    },
    {
     "name": "stdout",
     "output_type": "stream",
     "text": [
      "d_2 =\n"
     ]
    },
    {
     "data": {
      "text/latex": [
       "$\\displaystyle \\epsilon$"
      ],
      "text/plain": [
       "epsilon"
      ]
     },
     "metadata": {},
     "output_type": "display_data"
    }
   ],
   "source": [
    "mix_dk, pi_foc, pi_nonfoc = calc_switching_gains(A, 0, 1)\n",
    "\n",
    "for k, dk in enumerate(mix_dk):\n",
    "    \n",
    "    print(f'd_{k} =')\n",
    "    disp.display(dk)"
   ]
  },
  {
   "cell_type": "markdown",
   "id": "173c9328",
   "metadata": {},
   "source": [
    "Therefore, under zero homophily, there are two possibilities for the switching-gain sign sequence.\n",
    "If $-b + \\beta + c + \\epsilon > 0$, then the sign pattern is $(+, +, +)$, which means that D always dominates. However, we are specifically interested in the evolution of Coordinated Cooperation. Therefore, we will require a sign pattern $(+, -, +)$, which occurs when\n",
    "\n",
    "$$\n",
    "b - \\beta - c - \\epsilon > 0\n",
    "$$\n",
    "\n",
    "and which is a necessary condition for the coexistence of C and D. The sign pattern $(+, -, +)$ also means that Defectors can invade a population of all-Coordinating-Cooperators, but Coordinating Cooperators cannot invade a population of all-D."
   ]
  },
  {
   "cell_type": "markdown",
   "id": "f27732fa",
   "metadata": {},
   "source": [
    "#### With homophily"
   ]
  },
  {
   "cell_type": "code",
   "execution_count": 8,
   "id": "3861f632",
   "metadata": {},
   "outputs": [],
   "source": [
    "# we will simplify the expressions below by substituting in $F_1 = 1 - F_2 - F_3$\n",
    "F_1, F_2, F_3 = sp.symbols('F_1, F_2, F_3')"
   ]
  },
  {
   "cell_type": "markdown",
   "id": "2f2573e9",
   "metadata": {},
   "source": [
    "The switching gains from C (strategy 1) to D (strategy 0) under homophily are:"
   ]
  },
  {
   "cell_type": "code",
   "execution_count": 9,
   "id": "9cf82421",
   "metadata": {},
   "outputs": [
    {
     "name": "stdout",
     "output_type": "stream",
     "text": [
      "d_0 = \n"
     ]
    },
    {
     "data": {
      "text/latex": [
       "$\\displaystyle F_{1} \\cdot \\left(\\frac{2 c}{3} + \\epsilon\\right) + F_{2} \\left(- \\frac{2 b}{3} + \\frac{2 \\beta}{3} + \\frac{2 c}{3} + \\epsilon\\right) + F_{3} \\left(- b + \\beta + \\frac{2 c}{3} + \\epsilon\\right)$"
      ],
      "text/plain": [
       "F_1*(2*c/3 + epsilon) + F_2*(-2*b/3 + 2*beta/3 + 2*c/3 + epsilon) + F_3*(-b + beta + 2*c/3 + epsilon)"
      ]
     },
     "metadata": {},
     "output_type": "display_data"
    },
    {
     "name": "stdout",
     "output_type": "stream",
     "text": [
      "d_1 = \n"
     ]
    },
    {
     "data": {
      "text/latex": [
       "$\\displaystyle F_{1} \\left(- b + \\beta + c + \\epsilon\\right) + F_{2} \\left(- \\frac{2 b}{3} + \\frac{2 \\beta}{3} + \\frac{2 c}{3} + \\epsilon\\right) + F_{3} \\left(- b + \\beta + \\frac{2 c}{3} + \\epsilon\\right)$"
      ],
      "text/plain": [
       "F_1*(-b + beta + c + epsilon) + F_2*(-2*b/3 + 2*beta/3 + 2*c/3 + epsilon) + F_3*(-b + beta + 2*c/3 + epsilon)"
      ]
     },
     "metadata": {},
     "output_type": "display_data"
    },
    {
     "name": "stdout",
     "output_type": "stream",
     "text": [
      "d_2 = \n"
     ]
    },
    {
     "data": {
      "text/latex": [
       "$\\displaystyle F_{1} \\epsilon + F_{2} \\left(- \\frac{2 b}{3} + \\frac{2 \\beta}{3} + \\frac{2 c}{3} + \\epsilon\\right) + F_{3} \\left(- b + \\beta + \\frac{2 c}{3} + \\epsilon\\right)$"
      ],
      "text/plain": [
       "F_1*epsilon + F_2*(-2*b/3 + 2*beta/3 + 2*c/3 + epsilon) + F_3*(-b + beta + 2*c/3 + epsilon)"
      ]
     },
     "metadata": {},
     "output_type": "display_data"
    }
   ],
   "source": [
    "mix_dk, pi_foc, pi_nonfoc = calc_switching_gains(B, 0, 1)\n",
    "\n",
    "for k, dk in enumerate(mix_dk):\n",
    "    \n",
    "    # gather terms in expression\n",
    "    dk_gather = sp.collect(sp.expand(dk), (F_1, F_2, F_3))\n",
    "    print(f'd_{k} = ')\n",
    "    disp.display(dk_gather)"
   ]
  },
  {
   "cell_type": "markdown",
   "id": "52e33d01",
   "metadata": {},
   "source": [
    "Under perfect homophily, i.e., when $F_{[1,1,1]} = F_{[2,1]} = 0$ and $F_{[3]} = 1$, then all switching gains $d_0 = d_1 = d_2 = -b + \\beta + \\frac{2c}{3} + \\epsilon < 0$, which means that Coordinating Cooperators dominate.\n",
    "\n",
    "To analyse the effect of homophily, we simplify the expressions by substituting in $F_{[1,1,1]} = 1 - F_{[2,1]} - F_{[3]}$"
   ]
  },
  {
   "cell_type": "code",
   "execution_count": 10,
   "id": "1cd9a2bc",
   "metadata": {},
   "outputs": [
    {
     "name": "stdout",
     "output_type": "stream",
     "text": [
      "d_0 =\n"
     ]
    },
    {
     "data": {
      "text/latex": [
       "$\\displaystyle F_{2} \\left(- \\frac{2 b}{3} + \\frac{2 \\beta}{3}\\right) + F_{3} \\left(- b + \\beta\\right) + \\frac{2 c}{3} + \\epsilon$"
      ],
      "text/plain": [
       "F_2*(-2*b/3 + 2*beta/3) + F_3*(-b + beta) + 2*c/3 + epsilon"
      ]
     },
     "metadata": {},
     "output_type": "display_data"
    },
    {
     "name": "stdout",
     "output_type": "stream",
     "text": [
      "d_1 =\n"
     ]
    },
    {
     "data": {
      "text/latex": [
       "$\\displaystyle F_{2} \\left(\\frac{b}{3} - \\frac{\\beta}{3} - \\frac{c}{3}\\right) - \\frac{F_{3} c}{3} - b + \\beta + c + \\epsilon$"
      ],
      "text/plain": [
       "F_2*(b/3 - beta/3 - c/3) - F_3*c/3 - b + beta + c + epsilon"
      ]
     },
     "metadata": {},
     "output_type": "display_data"
    },
    {
     "name": "stdout",
     "output_type": "stream",
     "text": [
      "d_2 =\n"
     ]
    },
    {
     "data": {
      "text/latex": [
       "$\\displaystyle F_{2} \\left(- \\frac{2 b}{3} + \\frac{2 \\beta}{3} + \\frac{2 c}{3}\\right) + F_{3} \\left(- b + \\beta + \\frac{2 c}{3}\\right) + \\epsilon$"
      ],
      "text/plain": [
       "F_2*(-2*b/3 + 2*beta/3 + 2*c/3) + F_3*(-b + beta + 2*c/3) + epsilon"
      ]
     },
     "metadata": {},
     "output_type": "display_data"
    }
   ],
   "source": [
    "mix_dk, pi_foc, pi_nonfoc = calc_switching_gains(B, 0, 1)\n",
    "\n",
    "for k, dk in enumerate(mix_dk):\n",
    "    \n",
    "    # simplify the expression\n",
    "    dk_simp = dk.subs({F_1: 1- F_2 - F_3})\n",
    "    dk_simp = sp.collect(sp.expand(dk_simp), (F_2, F_3))\n",
    "    \n",
    "    # print it\n",
    "    print(f'd_{k} =')\n",
    "    disp.display(dk_simp)"
   ]
  },
  {
   "cell_type": "markdown",
   "id": "9818dda1",
   "metadata": {},
   "source": [
    "Given that $b - \\beta - c - \\epsilon > 0$, then $b - \\beta - c > 0$, and the signs on each term are:\n",
    "\n",
    "$$\n",
    "\\begin{align}\n",
    "    d_0 &= \n",
    "        \\underbrace{F_{[2,1]} \\left(- \\frac{2 b}{3} + \\frac{2 \\beta}{3}\\right)}_{(-)}\n",
    "        + \\underbrace{F_{[3]} \\left(- b + \\beta\\right)}_{(-)} \n",
    "        + \\underbrace{\\epsilon + \\frac{2 c}{3}}_{(+)},\n",
    "    \\\\\n",
    "    d_1 &=\n",
    "        \\underbrace{F_{[2,1]} \\left(\\frac{b}{3} - \\frac{\\beta}{3} - \\frac{c}{3}\\right)}_{(+)} \n",
    "        \\underbrace{- \\frac{F_{[3]} c}{3}}_{(-)} \n",
    "        \\underbrace{- b + \\beta + c + \\epsilon}_{(-)},\n",
    "    \\\\\n",
    "    d_2 &= \n",
    "        \\underbrace{F_{[2,1]} \\left(- \\frac{2 b}{3} + \\frac{2 \\beta}{3} + \\frac{2 c}{3}\\right)}_{(-)} \n",
    "        + \\underbrace{F_{[3]} \\left(- b + \\beta + \\frac{2 c}{3}\\right)}_{(-)} + \\underbrace{\\epsilon}_{(+)},\n",
    "\\end{align}\n",
    "$$"
   ]
  },
  {
   "cell_type": "markdown",
   "id": "32a0f79c",
   "metadata": {},
   "source": [
    "We see again that, under zero homophily, i.e., $F_{[2,1]} = F_{[3]} = 0$, the switching-gain sign pattern is $(+, -, +)$. This means that D can invade all-C, C cannot invade all-D, and there is a potential for coexistence between C and D.\n",
    "\n",
    "As homophily increases, i.e., as $F_{[2,1]}$ and $F_{[3]}$ increase from zero, $d_0$ decreases, which means that D has a harder time invading all-C. Also as homophily increases, $d_2$ decreases, which means that C has an easier time invading all-D. We know from above that, under perfect homophily, D cannot invade all-C and C can invade all-D.\n"
   ]
  },
  {
   "cell_type": "markdown",
   "id": "failing-sheriff",
   "metadata": {},
   "source": [
    "### 2.2 Outputting results to LaTeX\n",
    "\n",
    "The module `symbolic_transformed` also has a function `tabulate_switching_gains`, which will format a LaTeX table of the switching gains. "
   ]
  },
  {
   "cell_type": "markdown",
   "id": "c5449882",
   "metadata": {},
   "source": [
    "## 3. Invasion analysis examples: Invasion of coexistence between Coordinated Cooperators and Defectors"
   ]
  },
  {
   "cell_type": "markdown",
   "id": "69b876b8",
   "metadata": {},
   "source": [
    "### 3.1 Invasion of Liars into C+D"
   ]
  },
  {
   "cell_type": "code",
   "execution_count": 11,
   "id": "bfb25e1d",
   "metadata": {},
   "outputs": [
    {
     "name": "stdout",
     "output_type": "stream",
     "text": [
      "more positive means easier for L to invade\n"
     ]
    },
    {
     "data": {
      "text/latex": [
       "$\\displaystyle F_{2} \\left(- \\frac{2 b}{3} + \\frac{2 \\beta}{3} + \\frac{2 c}{3}\\right) + F_{3} \\left(- b + \\beta + \\frac{2 c}{3}\\right)$"
      ],
      "text/plain": [
       "F_2*(-2*b/3 + 2*beta/3 + 2*c/3) + F_3*(-b + beta + 2*c/3)"
      ]
     },
     "metadata": {},
     "output_type": "display_data"
    },
    {
     "data": {
      "text/latex": [
       "$\\displaystyle F_{2} \\cdot \\left(\\frac{2 b}{9} - \\frac{8 \\beta}{9} - \\frac{c}{3}\\right) + F_{3} \\left(- \\beta - \\frac{c}{3}\\right) - b + 2 \\beta + c$"
      ],
      "text/plain": [
       "F_2*(2*b/9 - 8*beta/9 - c/3) + F_3*(-beta - c/3) - b + 2*beta + c"
      ]
     },
     "metadata": {},
     "output_type": "display_data"
    },
    {
     "data": {
      "text/latex": [
       "$\\displaystyle F_{2} \\left(- \\frac{2 b}{9} + \\frac{2 \\beta}{9}\\right) + F_{3} \\left(- \\frac{b}{3} - \\frac{\\beta}{3}\\right) - \\frac{2 b}{3} + \\frac{4 \\beta}{3} + \\frac{2 c}{3}$"
      ],
      "text/plain": [
       "F_2*(-2*b/9 + 2*beta/9) + F_3*(-b/3 - beta/3) - 2*b/3 + 4*beta/3 + 2*c/3"
      ]
     },
     "metadata": {},
     "output_type": "display_data"
    }
   ],
   "source": [
    "h1V, h2V = calc_invasion_fitness_terms(B, 1, 0, 2) # C, D, L\n",
    "\n",
    "print('more positive means easier for L to invade')\n",
    "\n",
    "for v in h1V:\n",
    "    \n",
    "    vv = v.subs({F_1: 1 - F_2 - F_3})\n",
    "    vv = sp.collect(sp.expand(vv), [F_3, F_2])\n",
    "    \n",
    "    disp.display(vv)\n",
    "    # print(sp.latex(vv))"
   ]
  },
  {
   "cell_type": "markdown",
   "id": "f8eb8141",
   "metadata": {},
   "source": [
    "Under zero homophily, Liars can invade iff $-b + 2\\beta + c > 0$. If this condition is satisfied, then all $F_2$ and $F_3$ coefficients are negative. Therefore, increasing homophily impedes the invasion of Liars."
   ]
  },
  {
   "cell_type": "markdown",
   "id": "819ec3b9",
   "metadata": {},
   "source": [
    "### 3.2 Invasion of Unconditional Cooperators into C+D"
   ]
  },
  {
   "cell_type": "markdown",
   "id": "8769a67b",
   "metadata": {},
   "source": [
    "Sometimes the analysis is easier when the invasion-fitness terms are obtained by comparing the invader's payoffs to one or the other of the coexistence pair. Below, we comparing to Coordinating Cooperators is not as fruitful as comparing to Unconditional Defectors"
   ]
  },
  {
   "cell_type": "code",
   "execution_count": 12,
   "id": "7e095613",
   "metadata": {
    "scrolled": true
   },
   "outputs": [
    {
     "name": "stdout",
     "output_type": "stream",
     "text": [
      "more positive means easier for U to invade\n"
     ]
    },
    {
     "data": {
      "text/latex": [
       "$\\displaystyle F_{2} \\left(- \\frac{2 \\beta}{3} + \\frac{2 c}{3}\\right) + \\frac{2 F_{3} c}{3} + \\beta - c + \\epsilon$"
      ],
      "text/plain": [
       "F_2*(-2*beta/3 + 2*c/3) + 2*F_3*c/3 + beta - c + epsilon"
      ]
     },
     "metadata": {},
     "output_type": "display_data"
    },
    {
     "data": {
      "text/latex": [
       "$\\displaystyle F_{2} \\left(b - \\frac{5 \\beta}{3} - \\frac{c}{3}\\right) + F_{3} \\left(b - \\beta - \\frac{c}{3}\\right) - b + 2 \\beta + \\epsilon$"
      ],
      "text/plain": [
       "F_2*(b - 5*beta/3 - c/3) + F_3*(b - beta - c/3) - b + 2*beta + epsilon"
      ]
     },
     "metadata": {},
     "output_type": "display_data"
    },
    {
     "data": {
      "text/latex": [
       "$\\displaystyle - \\frac{2 F_{2} \\beta}{3} + \\beta - \\frac{c}{3} + \\epsilon$"
      ],
      "text/plain": [
       "-2*F_2*beta/3 + beta - c/3 + epsilon"
      ]
     },
     "metadata": {},
     "output_type": "display_data"
    }
   ],
   "source": [
    "h1V, h2V = calc_invasion_fitness_terms(B, 1, 0, 3) # C, D, U\n",
    "\n",
    "print('more positive means easier for U to invade')\n",
    "\n",
    "for v in h1V:\n",
    "    \n",
    "    vv = v.subs({F_1: 1 - F_2 - F_3})\n",
    "    vv = sp.collect(sp.expand(vv), [F_3, F_2])\n",
    "    \n",
    "    disp.display(vv)\n",
    "    # print(sp.latex(vv))"
   ]
  },
  {
   "cell_type": "code",
   "execution_count": 13,
   "id": "68fc5064",
   "metadata": {},
   "outputs": [
    {
     "data": {
      "text/latex": [
       "$\\displaystyle F_{2} \\cdot \\left(\\frac{2 b}{3} - \\frac{4 \\beta}{3}\\right) + F_{3} \\left(b - \\beta\\right) + \\beta - c$"
      ],
      "text/plain": [
       "F_2*(2*b/3 - 4*beta/3) + F_3*(b - beta) + beta - c"
      ]
     },
     "metadata": {},
     "output_type": "display_data"
    },
    {
     "data": {
      "text/latex": [
       "$\\displaystyle F_{2} \\cdot \\left(\\frac{2 b}{3} - \\frac{4 \\beta}{3}\\right) + F_{3} \\left(b - \\beta\\right) + \\beta - c$"
      ],
      "text/plain": [
       "F_2*(2*b/3 - 4*beta/3) + F_3*(b - beta) + beta - c"
      ]
     },
     "metadata": {},
     "output_type": "display_data"
    },
    {
     "data": {
      "text/latex": [
       "$\\displaystyle F_{2} \\cdot \\left(\\frac{2 b}{3} - \\frac{4 \\beta}{3}\\right) + F_{3} \\left(b - \\beta\\right) + \\beta - c$"
      ],
      "text/plain": [
       "F_2*(2*b/3 - 4*beta/3) + F_3*(b - beta) + beta - c"
      ]
     },
     "metadata": {},
     "output_type": "display_data"
    }
   ],
   "source": [
    "for v in h2V:\n",
    "    \n",
    "    vv = v.subs({F_1: 1 - F_2 - F_3})\n",
    "    vv = sp.collect(sp.expand(vv), [F_3, F_2])\n",
    "    \n",
    "    disp.display(vv)\n",
    "    # print(sp.latex(vv))"
   ]
  },
  {
   "cell_type": "markdown",
   "id": "bf331271",
   "metadata": {},
   "source": [
    "Above we see that, when homophily is zero, $\\beta - c < 0$ means that U can never invade. However, because all coefficients in front of $F_2$ and $F_3$ are positive, homophily facilitates the invasion of U. Finally, because $h_2 > 0$, then U can invade C+D iff U can invade all-D."
   ]
  },
  {
   "cell_type": "markdown",
   "id": "363e5d58",
   "metadata": {},
   "source": [
    "Note that if we reversed the order of inputs of the coexisting strategies, `h1V` and `h2V` are also swapped."
   ]
  },
  {
   "cell_type": "code",
   "execution_count": 15,
   "id": "898143fb",
   "metadata": {},
   "outputs": [
    {
     "data": {
      "text/latex": [
       "$\\displaystyle F_{2} \\left(- \\frac{2 \\beta}{3} + \\frac{2 c}{3}\\right) + \\frac{2 F_{3} c}{3} + \\beta - c + \\epsilon$"
      ],
      "text/plain": [
       "F_2*(-2*beta/3 + 2*c/3) + 2*F_3*c/3 + beta - c + epsilon"
      ]
     },
     "metadata": {},
     "output_type": "display_data"
    },
    {
     "data": {
      "text/latex": [
       "$\\displaystyle F_{2} \\left(b - \\frac{5 \\beta}{3} - \\frac{c}{3}\\right) + F_{3} \\left(b - \\beta - \\frac{c}{3}\\right) - b + 2 \\beta + \\epsilon$"
      ],
      "text/plain": [
       "F_2*(b - 5*beta/3 - c/3) + F_3*(b - beta - c/3) - b + 2*beta + epsilon"
      ]
     },
     "metadata": {},
     "output_type": "display_data"
    },
    {
     "data": {
      "text/latex": [
       "$\\displaystyle - \\frac{2 F_{2} \\beta}{3} + \\beta - \\frac{c}{3} + \\epsilon$"
      ],
      "text/plain": [
       "-2*F_2*beta/3 + beta - c/3 + epsilon"
      ]
     },
     "metadata": {},
     "output_type": "display_data"
    }
   ],
   "source": [
    "h1V, h2V = calc_invasion_fitness_terms(B, 0, 1, 3) # D, C, U\n",
    "\n",
    "for v in h2V:\n",
    "    \n",
    "    vv = v.subs({F_1: 1 - F_2 - F_3})\n",
    "    vv = sp.collect(sp.expand(vv), [F_3, F_2])\n",
    "    \n",
    "    disp.display(vv)"
   ]
  },
  {
   "cell_type": "code",
   "execution_count": null,
   "id": "bd073a92",
   "metadata": {},
   "outputs": [],
   "source": []
  }
 ],
 "metadata": {
  "kernelspec": {
   "display_name": "venv",
   "language": "python",
   "name": "venv"
  },
  "language_info": {
   "codemirror_mode": {
    "name": "ipython",
    "version": 3
   },
   "file_extension": ".py",
   "mimetype": "text/x-python",
   "name": "python",
   "nbconvert_exporter": "python",
   "pygments_lexer": "ipython3",
   "version": "3.11.2"
  }
 },
 "nbformat": 4,
 "nbformat_minor": 5
}
